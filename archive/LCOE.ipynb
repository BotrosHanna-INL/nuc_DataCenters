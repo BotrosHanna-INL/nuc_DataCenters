{
 "cells": [
  {
   "cell_type": "code",
   "execution_count": 2,
   "metadata": {},
   "outputs": [
    {
     "name": "stdout",
     "output_type": "stream",
     "text": [
      "20297.3421381159\n",
      "5\n"
     ]
    }
   ],
   "source": [
    "import numpy as np\n",
    "import csv\n",
    "import matplotlib as mpl\n",
    "import pandas as pd\n",
    "from scipy.optimize import curve_fit\n",
    "from src import *\n",
    "import matplotlib.pyplot as plt\n",
    "import os\n"
   ]
  },
  {
   "cell_type": "code",
   "execution_count": 12,
   "metadata": {},
   "outputs": [
    {
     "data": {
      "text/plain": [
       "[<matplotlib.lines.Line2D at 0x134e04d10>]"
      ]
     },
     "execution_count": 12,
     "metadata": {},
     "output_type": "execute_result"
    },
    {
     "data": {
      "image/png": "[encoded data removed]",
      "text/plain": [
       "<Figure size 640x480 with 1 Axes>"
      ]
     },
     "metadata": {},
     "output_type": "display_data"
    }
   ],
   "source": [
    "power_list = [1000, 500, 300, 100, 50, 10, 5, 1]\n",
    "OM1_list =[]\n",
    "\n",
    "for p in power_list :\n",
    "    # occ1 =occ_for_power(p)\n",
    "    # occ1_list.append(occ1)\n",
    "    OM1 = OM_cost_per_MWh(p)\n",
    "    OM1_list.append(OM1)\n",
    "    \n",
    "plt.plot(power_list ,  OM1_list)    "
   ]
  },
  {
   "cell_type": "markdown",
   "metadata": {},
   "source": [
    "# OCC"
   ]
  },
  {
   "cell_type": "code",
   "execution_count": 2,
   "metadata": {},
   "outputs": [
    {
     "name": "stdout",
     "output_type": "stream",
     "text": [
      "OCCs for large, small, microreactors are :  7750 10000 20297.3421381159 $/kw\n"
     ]
    }
   ],
   "source": [
    "\n",
    "\n",
    "\n",
    "\n",
    "print(\"OCCs for large, small, microreactors are : \" , OCC_large_conservative,  OCC_SMR_conservative, OCC_micro_conservative , \"$/kw\" )"
   ]
  },
  {
   "cell_type": "markdown",
   "metadata": {},
   "source": [
    "# TCI"
   ]
  },
  {
   "cell_type": "code",
   "execution_count": 3,
   "metadata": {},
   "outputs": [
    {
     "name": "stdout",
     "output_type": "stream",
     "text": [
      "TCIs for large, small, microreactors are :  10331.0 12154.0 22134.0 $/kw\n",
      "Total TCIs for large, small, microreactors are :  10.33 2.43 0.11 USD (billions)\n"
     ]
    }
   ],
   "source": [
    "\n",
    "\n",
    "print(\"Total TCIs for large, small, microreactors are : \" , np.round(tot_TCI_multiple_reactors( power_large_ref, interest_rate, 1)/1000000000, 2),\\\n",
    "    np.round(tot_TCI_multiple_reactors( power_SMR_ref, interest_rate, 1)/1000000000, 2), np.round(tot_TCI_multiple_reactors(power_micro_ref , interest_rate, 1)/1000000000, 2), \"USD (billions)\" )"
   ]
  },
  {
   "cell_type": "code",
   "execution_count": 1,
   "metadata": {},
   "outputs": [
    {
     "ename": "NameError",
     "evalue": "name 'occ_for_power' is not defined",
     "output_type": "error",
     "traceback": [
      "\u001b[0;31m---------------------------------------------------------------------------\u001b[0m",
      "\u001b[0;31mNameError\u001b[0m                                 Traceback (most recent call last)",
      "Cell \u001b[0;32mIn[1], line 3\u001b[0m\n\u001b[1;32m      1\u001b[0m power_list \u001b[38;5;241m=\u001b[39m [\u001b[38;5;241m1000\u001b[39m, \u001b[38;5;241m500\u001b[39m, \u001b[38;5;241m300\u001b[39m] \u001b[38;5;66;03m#, 100, 50, 10, 5, 1]\u001b[39;00m\n\u001b[1;32m      2\u001b[0m \u001b[38;5;28;01mfor\u001b[39;00m p \u001b[38;5;129;01min\u001b[39;00m power_list :\n\u001b[0;32m----> 3\u001b[0m     occ1 \u001b[38;5;241m=\u001b[39m\u001b[43mocc_for_power\u001b[49m(P)\n",
      "\u001b[0;31mNameError\u001b[0m: name 'occ_for_power' is not defined"
     ]
    }
   ],
   "source": []
  },
  {
   "cell_type": "code",
   "execution_count": null,
   "metadata": {},
   "outputs": [],
   "source": [
    "# interest_rate = 0.06\n",
    "# demand =  1000\n",
    "# print(\"The total cost of 1000 MW (in billions of dollars)\")\n",
    "# print(f\"{power_large_ref} MW : \",tot_TCI_multiple_reactors (power_large_ref,interest_rate , int(demand/power_large_ref))/1000000000)\n",
    "# print( f\"{power_SMR_ref} MW : \" ,tot_TCI_multiple_reactors (power_SMR_ref, interest_rate, int(demand/power_SMR_ref))/1000000000)\n",
    "# print( f\"{power_micro_ref} MW : \"  , tot_TCI_multiple_reactors (power_micro_ref, interest_rate, int(demand/power_micro_ref))/1000000000)\n",
    "# print( f\"{1} MW : \"  , tot_TCI_multiple_reactors (1, interest_rate, int(demand/1))/1000000000)"
   ]
  },
  {
   "cell_type": "code",
   "execution_count": null,
   "metadata": {},
   "outputs": [],
   "source": [
    "# # number of reactors to achieve the target demand \n",
    "# refueling_period = 30 /7) # days\n",
    "# levelization_period = 30*365\n",
    "\n",
    "# fuel_lifetime = 2*12*30\n",
    "\n",
    "\n",
    "# demand_0 = 1000 # MWe\n",
    "# power_list = [1000, 500, 300] #, 100, 50, 10, 5, 1]\n",
    "# capacity_factor_criteria_list = [0.9, 0.92, 0.94, 0.96, 0.98, 0.99, 0.999, 0.9999, 0.99999, 1]\n",
    "# num_reactors_save_tot = []\n",
    "# TCI_all_reactors_save_tot = []\n",
    "\n",
    "# for power in power_list :\n",
    "#     num_reactors_save = []\n",
    "#     TCI_all_reactors_save = []\n",
    "#     num_reactors_current = 0 # initialization\n",
    "#     for capacity_factor_criteria in capacity_factor_criteria_list :\n",
    "    \n",
    "#         num_reactors_0 =  max( int( np.ceil( demand_0 /power)), num_reactors_current)\n",
    "#         for  num_reactors in np.linspace( num_reactors_0 , 2*num_reactors_0, 1+num_reactors_0):\n",
    "            \n",
    "                \n",
    "#             times_array_excludingRampUp = (capacity_factor_weeks_approach(fuel_lifetime, refueling_period, int(num_reactors), power, levelization_period, demand_0 ))[0]\n",
    "#             # capacity_factor_min =        min ((capacity_factor(fuel_lifetime, refueling_period, int(num_reactors), power, levelization_period, demand_0 ))[1])\n",
    "#             overall_capacity_factor   =   (capacity_factor(fuel_lifetime, refueling_period, int(num_reactors), power, levelization_period, demand_0 ))[2]\n",
    "#             # print( power, num_reactors, capacity_factor_criteria, overall_capacity_factor  )\n",
    "            \n",
    "#             if  overall_capacity_factor>=  capacity_factor_criteria:\n",
    "#                 num_reactors_save.append(num_reactors)\n",
    "#                 TCI_all_reactors = tot_TCI_multiple_reactors (power, 0.075, int(num_reactors)) # assume 7.5 % interest rate # $ /kw\n",
    "#                 TCI_all_reactors_save.append(TCI_all_reactors)\n",
    "#                 print(power, num_reactors, TCI_all_reactors )\n",
    "#                 num_reactors_current = int(num_reactors)\n",
    "                \n",
    "#                 break\n",
    "    \n",
    "            \n",
    "#     num_reactors_save_tot.append(num_reactors_save)    \n",
    "#     TCI_all_reactors_save_tot.append( TCI_all_reactors_save)  "
   ]
  },
  {
   "cell_type": "markdown",
   "metadata": {},
   "source": [
    "# Annualized Cost"
   ]
  },
  {
   "cell_type": "code",
   "execution_count": 14,
   "metadata": {},
   "outputs": [
    {
     "name": "stdout",
     "output_type": "stream",
     "text": [
      "O&M cost for large, SMR, microreactors ($/MWh) are  39.8 41.4 159.79897990810207\n"
     ]
    }
   ],
   "source": [
    "  \n",
    "\n",
    "\n",
    "# def OM_cost_per_MWh_reactor_mix(power_list, num_reactors_list):\n",
    "#     OM_cost_for_reactor_type_list = []\n",
    "    \n",
    "#     for i  in range(len(power_list)):\n",
    "#         OM_cost_for_reactor_type = (OM_cost_per_MWh(power_list[i]) ) * num_reactors_list[i]\n",
    "#         OM_cost_for_reactor_type_list.append(OM_cost_for_reactor_type)\n",
    "#     return sum(OM_cost_for_reactor_type_list)    "
   ]
  },
  {
   "cell_type": "code",
   "execution_count": 5,
   "metadata": {},
   "outputs": [],
   "source": [
    "# Electricity Prices\n",
    "# According to: https://www.eia.gov/electricity/monthly/epm_table_grapher.php?t=epmt_5_6_a\n",
    "# The US total cost of electircy in Apri 2023 is 12.18 cents / kwh and the minimum was 7.59 (dakota)\n",
    "elec_price_tot = 121.8   # dollar /MWh\n",
    "elec_price_min = 75.8   # dollar /MWh"
   ]
  },
  {
   "cell_type": "markdown",
   "metadata": {},
   "source": [
    "# LCOE"
   ]
  },
  {
   "cell_type": "code",
   "execution_count": 8,
   "metadata": {},
   "outputs": [],
   "source": [
    "def level_cost_of_energy( interest_rate, P, num_reactors, list_of_total_generated_MWh_per_year_from_all_reactors,\\\n",
    "    list_of_generated_MWh_per_year_from_all_reactors_per_demand,list_of_sold_electricity_MWh_per_year_from_all_reactors, elec_price ):\n",
    "    sum_cost = 0 # initialization \n",
    "    sum_elec = 0 # initialization \n",
    "           \n",
    "    for year in range( len(list_of_total_generated_MWh_per_year_from_all_reactors)):\n",
    "        if year == 0:\n",
    "            cap_cost =  tot_TCI_multiple_reactors (P, interest_rate, num_reactors) \n",
    "            OM_cost_per_year = 0\n",
    "            elec_gen = 0\n",
    "            revenue = 0\n",
    "        \n",
    "        elif year > 0:\n",
    "         \n",
    "            cap_cost = 0 \n",
    "            OM_cost_per_year = OM_cost_per_MWh(P) * list_of_total_generated_MWh_per_year_from_all_reactors[year-1]\n",
    "            revenue = elec_price * list_of_sold_electricity_MWh_per_year_from_all_reactors[year-1]\n",
    "            elec_gen =  list_of_generated_MWh_per_year_from_all_reactors_per_demand[year-1]\n",
    "        \n",
    "        sum_cost += (cap_cost + OM_cost_per_year - revenue) / ((1 +interest_rate)**(year) ) \n",
    "        sum_elec += elec_gen/ ((1 + interest_rate)**year) \n",
    "    \n",
    "    LCOE =  sum_cost/ sum_elec\n",
    "    return LCOE    \n",
    "\n",
    "\n",
    "\n",
    "\n",
    "\n",
    "def level_cost_of_energy_reactor_mix( interest_rate, power_list, num_reactors_list, list_of_total_generated_MWh_per_year_from_all_reactors,\\\n",
    "    list_of_generated_MWh_per_year_from_all_reactors_per_demand,list_of_sold_electricity_MWh_per_year_from_all_reactors, elec_price ):\n",
    "    \n",
    "    sum_cost = 0 # initialization \n",
    "    sum_elec = 0 # initialization \n",
    "           \n",
    "    for year in range( len(list_of_total_generated_MWh_per_year_from_all_reactors)):\n",
    "        if year == 0:\n",
    "            cap_cost =  tot_TCI_multiple_reactors_mix(power_list, interest_rate, num_reactors_list)\n",
    "            OM_cost_per_year = 0\n",
    "            elec_gen = 0\n",
    "            revenue = 0\n",
    "        \n",
    "        elif year > 0:\n",
    "         \n",
    "            cap_cost = 0 \n",
    "            \n",
    "            OM_cost_per_MWh_reactor_mix(power_list, num_reactors_list)\n",
    "            OM_cost_per_year = OM_cost_per_MWh(P) * list_of_total_generated_MWh_per_year_from_all_reactors[year-1]\n",
    "            revenue = elec_price * list_of_sold_electricity_MWh_per_year_from_all_reactors[year-1]\n",
    "            elec_gen =  list_of_generated_MWh_per_year_from_all_reactors_per_demand[year-1]\n",
    "        \n",
    "        sum_cost += (cap_cost + OM_cost_per_year - revenue) / ((1 +interest_rate)**(year) ) \n",
    "        sum_elec += elec_gen/ ((1 + interest_rate)**year) \n",
    "    \n",
    "    LCOE =  sum_cost/ sum_elec\n",
    "    return LCOE\n",
    "\n",
    "# levelization_period_years = int(30)\n",
    "# interest_rate = 0.06\n",
    "# P = 500\n",
    "# num_reactors = int(6000/P)\n",
    "# list_of_generated_MWh_per_year_from_all_reactors = [num_reactors *P * 8760*0.95]*30\n",
    "# level_cost_of_energy(levelization_period_years, interest_rate, P, num_reactors, list_of_generated_MWh_per_year_from_all_reactors)"
   ]
  },
  {
   "cell_type": "markdown",
   "metadata": {},
   "source": [
    "# TCI for target demand and reliability"
   ]
  },
  {
   "cell_type": "code",
   "execution_count": 9,
   "metadata": {},
   "outputs": [
    {
     "name": "stdout",
     "output_type": "stream",
     "text": [
      "500 Baseline\n",
      "500 0.9\n"
     ]
    },
    {
     "ename": "KeyboardInterrupt",
     "evalue": "",
     "output_type": "error",
     "traceback": [
      "\u001b[0;31m---------------------------------------------------------------------------\u001b[0m",
      "\u001b[0;31mKeyboardInterrupt\u001b[0m                         Traceback (most recent call last)",
      "Cell \u001b[0;32mIn[9], line 36\u001b[0m\n\u001b[1;32m     31\u001b[0m    num_reactors_needed \u001b[38;5;241m=\u001b[39m \u001b[38;5;28mint\u001b[39m(np\u001b[38;5;241m.\u001b[39mceil(num_reactors_needed_for_capacity_factor_weeks_apprioach(overall_capacity_factor_criteria,\\\n\u001b[1;32m     32\u001b[0m                 \u001b[38;5;241m0\u001b[39m, fuel_lifetime, refueling_period, reactor_power ,\\\n\u001b[1;32m     33\u001b[0m                     levelization_period_0, tot_demand))) \n\u001b[1;32m     34\u001b[0m \u001b[38;5;28;01melse\u001b[39;00m:\n\u001b[0;32m---> 36\u001b[0m     num_reactors_needed \u001b[38;5;241m=\u001b[39m \u001b[38;5;28mint\u001b[39m(np\u001b[38;5;241m.\u001b[39mceil(\u001b[43mnum_reactors_needed_for_capacity_factor_weeks_apprioach\u001b[49m\u001b[43m(\u001b[49m\u001b[43moverall_capacity_factor_criteria\u001b[49m\u001b[43m,\u001b[49m\u001b[43m\\\u001b[49m\n\u001b[1;32m     37\u001b[0m \u001b[43m                \u001b[49m\u001b[43mmin_capacity_factor_criteria\u001b[49m\u001b[43m,\u001b[49m\u001b[43m \u001b[49m\u001b[43mfuel_lifetime\u001b[49m\u001b[43m,\u001b[49m\u001b[43m \u001b[49m\u001b[43mrefueling_period\u001b[49m\u001b[43m,\u001b[49m\u001b[43m \u001b[49m\u001b[43mreactor_power\u001b[49m\u001b[43m \u001b[49m\u001b[43m,\u001b[49m\u001b[43m\\\u001b[49m\n\u001b[1;32m     38\u001b[0m \u001b[43m                    \u001b[49m\u001b[43mlevelization_period_0\u001b[49m\u001b[43m,\u001b[49m\u001b[43m \u001b[49m\u001b[43mtot_demand\u001b[49m\u001b[43m)\u001b[49m))\n\u001b[1;32m     40\u001b[0m tot_TCI \u001b[38;5;241m=\u001b[39m (tot_TCI_multiple_reactors (reactor_power, interest_rate, num_reactors_needed)) \u001b[38;5;241m/\u001b[39m \u001b[38;5;241m1000000000\u001b[39m\n\u001b[1;32m     41\u001b[0m tot_TCI_list\u001b[38;5;241m.\u001b[39mappend(tot_TCI)\n",
      "File \u001b[0;32m~/Library/CloudStorage/OneDrive-SharedLibraries-IdahoNationalLaboratory/GRP-GAIN-INL Econ - Documents/General/DataCenter/PDscope_DataCenter/github_repo/nuc_DataCenters/src.py:687\u001b[0m, in \u001b[0;36mnum_reactors_needed_for_capacity_factor_weeks_apprioach\u001b[0;34m(overall_capacity_factor_criteria, min_capacity_factor_criteria, fuel_lifetime_weeks, refueling_period_weeks, power, levelization_period_weeks, demand_0)\u001b[0m\n\u001b[1;32m    685\u001b[0m num_reactors_0 \u001b[38;5;241m=\u001b[39m  \u001b[38;5;28mint\u001b[39m( np\u001b[38;5;241m.\u001b[39mceil( demand_0 \u001b[38;5;241m/\u001b[39mpower))\n\u001b[1;32m    686\u001b[0m \u001b[38;5;28;01mfor\u001b[39;00m  num_reactors \u001b[38;5;129;01min\u001b[39;00m np\u001b[38;5;241m.\u001b[39mlinspace( num_reactors_0 , \u001b[38;5;241m5\u001b[39m\u001b[38;5;241m*\u001b[39mnum_reactors_0, \u001b[38;5;241m4\u001b[39m\u001b[38;5;241m*\u001b[39mnum_reactors_0\u001b[38;5;241m+\u001b[39m\u001b[38;5;241m1\u001b[39m):\n\u001b[0;32m--> 687\u001b[0m     capacity_factor_results \u001b[38;5;241m=\u001b[39m (\u001b[43mcapacity_factor_weeks_approach\u001b[49m\u001b[43m(\u001b[49m\u001b[43mfuel_lifetime_weeks\u001b[49m\u001b[43m,\u001b[49m\u001b[43m \u001b[49m\u001b[43mrefueling_period_weeks\u001b[49m\u001b[43m,\u001b[49m\u001b[43m \u001b[49m\u001b[38;5;28;43mint\u001b[39;49m\u001b[43m(\u001b[49m\u001b[43mnum_reactors\u001b[49m\u001b[43m)\u001b[49m\u001b[43m,\u001b[49m\u001b[43m \u001b[49m\u001b[43mpower\u001b[49m\u001b[43m,\u001b[49m\u001b[43m \u001b[49m\u001b[43mlevelization_period_weeks\u001b[49m\u001b[43m,\u001b[49m\u001b[43m \u001b[49m\u001b[43mdemand_0\u001b[49m\u001b[43m \u001b[49m\u001b[43m)\u001b[49m)\n\u001b[1;32m    689\u001b[0m     \u001b[38;5;66;03m# times_array_excludingRampUp = capacity_factor_results[0]\u001b[39;00m\n\u001b[1;32m    690\u001b[0m     capacity_factor_min \u001b[38;5;241m=\u001b[39m    \u001b[38;5;28mmin\u001b[39m (capacity_factor_results[\u001b[38;5;241m1\u001b[39m])\n",
      "File \u001b[0;32m~/Library/CloudStorage/OneDrive-SharedLibraries-IdahoNationalLaboratory/GRP-GAIN-INL Econ - Documents/General/DataCenter/PDscope_DataCenter/github_repo/nuc_DataCenters/src.py:584\u001b[0m, in \u001b[0;36mcapacity_factor_weeks_approach\u001b[0;34m(fuel_lifetime_weeks, refueling_period_weeks, num_reactors, power1, levelization_period_weeks, demand)\u001b[0m\n\u001b[1;32m    581\u001b[0m \u001b[38;5;28;01mdef\u001b[39;00m \u001b[38;5;21mcapacity_factor_weeks_approach\u001b[39m(fuel_lifetime_weeks, refueling_period_weeks, num_reactors, power1,levelization_period_weeks, demand):\n\u001b[0;32m--> 584\u001b[0m     schedule \u001b[38;5;241m=\u001b[39m \u001b[43mcalculate_schedule_multiple_reactors_weeks_approach\u001b[49m\u001b[43m(\u001b[49m\u001b[43mfuel_lifetime_weeks\u001b[49m\u001b[43m,\u001b[49m\u001b[43m \u001b[49m\u001b[43mrefueling_period_weeks\u001b[49m\u001b[43m,\u001b[49m\u001b[43m \u001b[49m\u001b[43mnum_reactors\u001b[49m\u001b[43m,\u001b[49m\u001b[43m \u001b[49m\u001b[43mpower1\u001b[49m\u001b[43m,\u001b[49m\u001b[43m \u001b[49m\u001b[43mlevelization_period_weeks\u001b[49m\u001b[43m)\u001b[49m \n\u001b[1;32m    586\u001b[0m     times \u001b[38;5;241m=\u001b[39m  schedule[\u001b[38;5;241m0\u001b[39m] \u001b[38;5;66;03m# This is the time in weeks\u001b[39;00m\n\u001b[1;32m    587\u001b[0m     powers \u001b[38;5;241m=\u001b[39m  schedule[\u001b[38;5;241m1\u001b[39m]\n",
      "File \u001b[0;32m~/Library/CloudStorage/OneDrive-SharedLibraries-IdahoNationalLaboratory/GRP-GAIN-INL Econ - Documents/General/DataCenter/PDscope_DataCenter/github_repo/nuc_DataCenters/src.py:562\u001b[0m, in \u001b[0;36mcalculate_schedule_multiple_reactors_weeks_approach\u001b[0;34m(fuel_lifetime_weeks, refueling_period_weeks, num_reactors, power, levelization_period_weeks)\u001b[0m\n\u001b[1;32m    558\u001b[0m P_list \u001b[38;5;241m=\u001b[39m []\n\u001b[1;32m    560\u001b[0m \u001b[38;5;28;01mfor\u001b[39;00m time \u001b[38;5;129;01min\u001b[39;00m \u001b[38;5;28mrange\u001b[39m(\u001b[38;5;241m1\u001b[39m, levelization_period_weeks\u001b[38;5;241m+\u001b[39m\u001b[38;5;241m1\u001b[39m):  \u001b[38;5;66;03m#we start with week#1 not week #0\u001b[39;00m\n\u001b[0;32m--> 562\u001b[0m     P \u001b[38;5;241m=\u001b[39m \u001b[43mcalculate_duty_cycle_weeks_approach\u001b[49m\u001b[43m(\u001b[49m\u001b[43m \u001b[49m\u001b[38;5;28;43mint\u001b[39;49m\u001b[43m(\u001b[49m\u001b[43m \u001b[49m\u001b[43mdelay\u001b[49m\u001b[43m)\u001b[49m\u001b[43m,\u001b[49m\u001b[43m \u001b[49m\u001b[43mfuel_lifetime_weeks\u001b[49m\u001b[43m,\u001b[49m\u001b[43m \u001b[49m\u001b[43mrefueling_period_weeks\u001b[49m\u001b[43m,\u001b[49m\u001b[43m \u001b[49m\u001b[43mlevelization_period_weeks\u001b[49m\u001b[43m,\u001b[49m\u001b[43m \u001b[49m\u001b[43mpower\u001b[49m\u001b[43m,\u001b[49m\u001b[43m \u001b[49m\u001b[43mtime\u001b[49m\u001b[43m)\u001b[49m\n\u001b[1;32m    564\u001b[0m     t_list\u001b[38;5;241m.\u001b[39mappend(time)\n\u001b[1;32m    565\u001b[0m     P_list\u001b[38;5;241m.\u001b[39mappend(P)\n",
      "File \u001b[0;32m~/Library/CloudStorage/OneDrive-SharedLibraries-IdahoNationalLaboratory/GRP-GAIN-INL Econ - Documents/General/DataCenter/PDscope_DataCenter/github_repo/nuc_DataCenters/src.py\u001b[0m, in \u001b[0;36mcalculate_duty_cycle_weeks_approach\u001b[0;34m(inital_delay_in_weeks, fuel_lifetime_weeks, refuel_period_weeks, levelization_period_weeks, power, t_weeks)\u001b[0m\n\u001b[1;32m      0\u001b[0m <Error retrieving source code with stack_data see ipython/ipython#13598>\n",
      "\u001b[0;31mKeyboardInterrupt\u001b[0m: "
     ]
    },
    {
     "data": {
      "image/png": "[encoded data removed]",
      "text/plain": [
       "<Figure size 800x500 with 1 Axes>"
      ]
     },
     "metadata": {},
     "output_type": "display_data"
    }
   ],
   "source": [
    "import matplotlib as mpl\n",
    "\n",
    "# delete the output file is exists\n",
    "filename = \"TCI_for_demand_reliability.csv\"\n",
    "try:\n",
    "    os.remove(filename)\n",
    "except OSError:\n",
    "    pass\n",
    "    \n",
    "power_list = [1000, 900 , 800, 700, 600, 500, 400, 300, 200, 100  ,50,  20, 5, 1]\n",
    "min_capacity_factor_criteria_list = ['Baseline' ,0.9, 0.95,  0.99, 0.99999, 1]\n",
    "interest_rate = 0.06\n",
    "levelization_period_0 = int(365 * 30/7)\n",
    "overall_capacity_factor_criteria = 0 # has no effect\n",
    "\n",
    "\n",
    "\n",
    "for tot_demand in [500,   1000, 3000, 6000] :\n",
    "    fig = plt.figure(figsize=(8, 5))\n",
    "    plt.title( f\"Demand  = {tot_demand} $MW_e$ \",  fontsize=18)\n",
    "    for min_capacity_factor_criteria in min_capacity_factor_criteria_list:\n",
    "        tot_TCI_list = []\n",
    "\n",
    "        print(tot_demand, min_capacity_factor_criteria)\n",
    "        for reactor_power in power_list:\n",
    "\n",
    "            fuel_lifetime = operational_lifetime_estimate(reactor_power) \n",
    "            refueling_period =  refueling_period_estimate(reactor_power) \n",
    "            \n",
    "            if min_capacity_factor_criteria == \"Baseline\":\n",
    "               num_reactors_needed = int(np.ceil(num_reactors_needed_for_capacity_factor_weeks_apprioach(overall_capacity_factor_criteria,\\\n",
    "                            0, fuel_lifetime, refueling_period, reactor_power ,\\\n",
    "                                levelization_period_0, tot_demand))) \n",
    "            else:\n",
    "            \n",
    "                num_reactors_needed = int(np.ceil(num_reactors_needed_for_capacity_factor_weeks_apprioach(overall_capacity_factor_criteria,\\\n",
    "                            min_capacity_factor_criteria, fuel_lifetime, refueling_period, reactor_power ,\\\n",
    "                                levelization_period_0, tot_demand)))\n",
    "\n",
    "            tot_TCI = (tot_TCI_multiple_reactors (reactor_power, interest_rate, num_reactors_needed)) / 1000000000\n",
    "            tot_TCI_list.append(tot_TCI)\n",
    "        \n",
    "        # save it into a list\n",
    "        df1 = pd.DataFrame(tot_TCI_list)\n",
    "        df1.to_csv(filename , mode='a',index = False)\n",
    "        \n",
    "        if min_capacity_factor_criteria == \"Baseline\" :\n",
    "            plt.plot(power_list , tot_TCI_list , '-o' , markersize = 8,  alpha=0.6 ,label = \"Baseline\")\n",
    "        else:\n",
    "            plt.plot(power_list , tot_TCI_list , '-o' , markersize = 8,  alpha=0.6 ,label = f\"Target Daily Agg. Capacity Factor = { min_capacity_factor_criteria}\")\n",
    "\n",
    "           \n",
    "        plt.yscale('log')\n",
    "        plt.xscale('log')\n",
    "    if tot_demand == 500:\n",
    "        plt.legend(bbox_to_anchor=(0.5, 1.5), loc='upper center', fontsize=17 , ncol=3)\n",
    "\n",
    "\n",
    "    \n",
    "    plt.grid(which='major', color='grey', linewidth=0.8)\n",
    "    plt.grid(which='minor', color='grey', linestyle='dashed', linewidth=0.5)\n",
    "    plt.minorticks_on() \n",
    "    \n",
    "    # \n",
    "    # plt.gca().yaxis.set_minor_locator(plt.FixedLocator([6, 7, 8, 9, 10, 11, 12, 13, 14, 15, 16, 17, 18, 19, 20]))\n",
    "    # plt.gca().yaxis.set_major_formatter(ticker.FormatStrFormatter(''))\n",
    "    # ax.xaxis.set_major_formatter(FormatStrFormatter('% 1.2f')) \n",
    "    plt.gca().yaxis.set_major_formatter(mpl.ticker.ScalarFormatter())\n",
    "    plt.gca().yaxis.set_minor_formatter(mpl.ticker.ScalarFormatter())\n",
    "    \n",
    "    plt.gca().xaxis.set_major_formatter(mpl.ticker.ScalarFormatter())\n",
    "    plt.gca().xaxis.set_minor_formatter(mpl.ticker.ScalarFormatter())\n",
    "    \n",
    "    ticks_list = np.linspace( 2*np.floor((min(tot_TCI_list))/2)    , 2*np.ceil((max(tot_TCI_list))/2), int(1    +    np.ceil((max(tot_TCI_list))/2)   -    np.floor((min(tot_TCI_list))/2)   )  )\n",
    "    plt.yticks( ticks_list)\n",
    "    \n",
    "    plt.gca().yaxis.set_minor_formatter(mpl.ticker.NullFormatter())\n",
    "    plt.gca().xaxis.set_minor_formatter(mpl.ticker.NullFormatter())\n",
    "    \n",
    "   \n",
    "    \n",
    "    # plt.gca().yaxis.set_major_locator(plt.MultipleLocator(2))\n",
    "    \n",
    "    plt.xlabel('Power ($MW_e$)', fontsize=18)\n",
    "    plt.ylabel('TCI (USD Billions)', fontsize=18) \n",
    "    # plt.ylim(0,  10*np.ceil(max(tot_TCI_list)/10)          )\n",
    "    plt.xlim( 1, 1000)\n",
    "    \n",
    "    plt.yticks(fontsize=17)\n",
    "    plt.xticks(fontsize=17) \n",
    "    plt.savefig(f'TCI_{tot_demand}.png', bbox_inches='tight')\n",
    "    plt.show()"
   ]
  },
  {
   "cell_type": "markdown",
   "metadata": {},
   "source": [
    "# LCOE  = f (power, reliability and demand)"
   ]
  },
  {
   "cell_type": "code",
   "execution_count": 10,
   "metadata": {},
   "outputs": [
    {
     "name": "stdout",
     "output_type": "stream",
     "text": [
      "500 Baseline\n",
      "500 0.9\n"
     ]
    },
    {
     "ename": "KeyboardInterrupt",
     "evalue": "",
     "output_type": "error",
     "traceback": [
      "\u001b[0;31m---------------------------------------------------------------------------\u001b[0m",
      "\u001b[0;31mKeyboardInterrupt\u001b[0m                         Traceback (most recent call last)",
      "Cell \u001b[0;32mIn[10], line 41\u001b[0m\n\u001b[1;32m     35\u001b[0m \u001b[38;5;28;01melse\u001b[39;00m:\n\u001b[1;32m     37\u001b[0m     num_reactors_needed \u001b[38;5;241m=\u001b[39m \u001b[38;5;28mint\u001b[39m(np\u001b[38;5;241m.\u001b[39mceil(num_reactors_needed_for_capacity_factor_weeks_apprioach(overall_capacity_factor_criteria,\\\n\u001b[1;32m     38\u001b[0m                 min_capacity_factor_criteria, fuel_lifetime, refueling_period, reactor_power ,\\\n\u001b[1;32m     39\u001b[0m                     levelization_period_0, tot_demand)))\n\u001b[0;32m---> 41\u001b[0m results \u001b[38;5;241m=\u001b[39m \u001b[43mcapacity_factor_weeks_approach\u001b[49m\u001b[43m(\u001b[49m\u001b[43mfuel_lifetime\u001b[49m\u001b[43m,\u001b[49m\u001b[43m \u001b[49m\u001b[43mrefueling_period\u001b[49m\u001b[43m,\u001b[49m\u001b[43m \u001b[49m\u001b[43mnum_reactors_needed\u001b[49m\u001b[43m,\u001b[49m\u001b[43m \u001b[49m\u001b[43mreactor_power\u001b[49m\u001b[43m,\u001b[49m\u001b[43m \u001b[49m\u001b[43mlevelization_period_0\u001b[49m\u001b[43m,\u001b[49m\u001b[43m \u001b[49m\u001b[43mtot_demand\u001b[49m\u001b[43m)\u001b[49m\n\u001b[1;32m     42\u001b[0m Tot_MWh_generated_per_year_list \u001b[38;5;241m=\u001b[39m results[\u001b[38;5;241m3\u001b[39m]\n\u001b[1;32m     43\u001b[0m MWh_generated_per_year_per_demand_list \u001b[38;5;241m=\u001b[39m results[\u001b[38;5;241m4\u001b[39m]\n",
      "File \u001b[0;32m~/Library/CloudStorage/OneDrive-SharedLibraries-IdahoNationalLaboratory/GRP-GAIN-INL Econ - Documents/General/DataCenter/PDscope_DataCenter/github_repo/nuc_DataCenters/src.py:584\u001b[0m, in \u001b[0;36mcapacity_factor_weeks_approach\u001b[0;34m(fuel_lifetime_weeks, refueling_period_weeks, num_reactors, power1, levelization_period_weeks, demand)\u001b[0m\n\u001b[1;32m    581\u001b[0m \u001b[38;5;28;01mdef\u001b[39;00m \u001b[38;5;21mcapacity_factor_weeks_approach\u001b[39m(fuel_lifetime_weeks, refueling_period_weeks, num_reactors, power1,levelization_period_weeks, demand):\n\u001b[0;32m--> 584\u001b[0m     schedule \u001b[38;5;241m=\u001b[39m \u001b[43mcalculate_schedule_multiple_reactors_weeks_approach\u001b[49m\u001b[43m(\u001b[49m\u001b[43mfuel_lifetime_weeks\u001b[49m\u001b[43m,\u001b[49m\u001b[43m \u001b[49m\u001b[43mrefueling_period_weeks\u001b[49m\u001b[43m,\u001b[49m\u001b[43m \u001b[49m\u001b[43mnum_reactors\u001b[49m\u001b[43m,\u001b[49m\u001b[43m \u001b[49m\u001b[43mpower1\u001b[49m\u001b[43m,\u001b[49m\u001b[43m \u001b[49m\u001b[43mlevelization_period_weeks\u001b[49m\u001b[43m)\u001b[49m \n\u001b[1;32m    586\u001b[0m     times \u001b[38;5;241m=\u001b[39m  schedule[\u001b[38;5;241m0\u001b[39m] \u001b[38;5;66;03m# This is the time in weeks\u001b[39;00m\n\u001b[1;32m    587\u001b[0m     powers \u001b[38;5;241m=\u001b[39m  schedule[\u001b[38;5;241m1\u001b[39m]\n",
      "File \u001b[0;32m~/Library/CloudStorage/OneDrive-SharedLibraries-IdahoNationalLaboratory/GRP-GAIN-INL Econ - Documents/General/DataCenter/PDscope_DataCenter/github_repo/nuc_DataCenters/src.py:522\u001b[0m, in \u001b[0;36mcalculate_schedule_multiple_reactors_weeks_approach\u001b[0;34m(fuel_lifetime_weeks, refueling_period_weeks, num_reactors, power, levelization_period_weeks)\u001b[0m\n\u001b[1;32m    518\u001b[0m P_list \u001b[38;5;241m=\u001b[39m []\n\u001b[1;32m    520\u001b[0m \u001b[38;5;28;01mfor\u001b[39;00m time \u001b[38;5;129;01min\u001b[39;00m \u001b[38;5;28mrange\u001b[39m(\u001b[38;5;241m1\u001b[39m, levelization_period_weeks\u001b[38;5;241m+\u001b[39m\u001b[38;5;241m1\u001b[39m): \u001b[38;5;66;03m# we start with week#1 not week #0\u001b[39;00m\n\u001b[0;32m--> 522\u001b[0m     P \u001b[38;5;241m=\u001b[39m \u001b[43mcalculate_duty_cycle_weeks_approach\u001b[49m\u001b[43m(\u001b[49m\u001b[43m \u001b[49m\u001b[38;5;28;43mint\u001b[39;49m\u001b[43m(\u001b[49m\u001b[43m \u001b[49m\u001b[43mdelay\u001b[49m\u001b[43m)\u001b[49m\u001b[43m,\u001b[49m\u001b[43m \u001b[49m\u001b[43mfuel_lifetime_weeks\u001b[49m\u001b[43m,\u001b[49m\u001b[43m \u001b[49m\u001b[43mrefueling_period_weeks\u001b[49m\u001b[43m,\u001b[49m\u001b[43m \u001b[49m\u001b[43mlevelization_period_weeks\u001b[49m\u001b[43m,\u001b[49m\u001b[43m \u001b[49m\u001b[43mpower\u001b[49m\u001b[43m,\u001b[49m\u001b[43m \u001b[49m\u001b[43mtime\u001b[49m\u001b[43m)\u001b[49m\n\u001b[1;32m    523\u001b[0m     t_list\u001b[38;5;241m.\u001b[39mappend(time)\n\u001b[1;32m    524\u001b[0m     P_list\u001b[38;5;241m.\u001b[39mappend(P)\n",
      "File \u001b[0;32m~/Library/CloudStorage/OneDrive-SharedLibraries-IdahoNationalLaboratory/GRP-GAIN-INL Econ - Documents/General/DataCenter/PDscope_DataCenter/github_repo/nuc_DataCenters/src.py:440\u001b[0m, in \u001b[0;36mcalculate_duty_cycle_weeks_approach\u001b[0;34m(inital_delay_in_weeks, fuel_lifetime_weeks, refuel_period_weeks, levelization_period_weeks, power, t_weeks)\u001b[0m\n\u001b[1;32m    437\u001b[0m \u001b[38;5;28;01mdef\u001b[39;00m \u001b[38;5;21mcalculate_duty_cycle_weeks_approach\u001b[39m(inital_delay_in_weeks, fuel_lifetime_weeks, refuel_period_weeks, levelization_period_weeks, power, t_weeks):\n\u001b[1;32m    438\u001b[0m     \u001b[38;5;66;03m# calculating the power at each timestep (week). The power is either full power or zero\u001b[39;00m\n\u001b[0;32m--> 440\u001b[0m     fuel_cycle_durations_weeks \u001b[38;5;241m=\u001b[39m \u001b[43mreactor_on_durations_weeks_approach\u001b[49m\u001b[43m(\u001b[49m\u001b[43minital_delay_in_weeks\u001b[49m\u001b[43m,\u001b[49m\u001b[43m \u001b[49m\u001b[43mfuel_lifetime_weeks\u001b[49m\u001b[43m,\u001b[49m\u001b[43m  \u001b[49m\u001b[43mrefuel_period_weeks\u001b[49m\u001b[43m,\u001b[49m\u001b[43m \u001b[49m\u001b[43mlevelization_period_weeks\u001b[49m\u001b[43m)\u001b[49m\n\u001b[1;32m    441\u001b[0m     fuel_cycle_start_weeks \u001b[38;5;241m=\u001b[39m fuel_cycle_durations_weeks[\u001b[38;5;241m0\u001b[39m]\n\u001b[1;32m    442\u001b[0m     fuel_cycle_end_weeks \u001b[38;5;241m=\u001b[39m fuel_cycle_durations_weeks[\u001b[38;5;241m-\u001b[39m\u001b[38;5;241m1\u001b[39m]\n",
      "File \u001b[0;32m~/Library/CloudStorage/OneDrive-SharedLibraries-IdahoNationalLaboratory/GRP-GAIN-INL Econ - Documents/General/DataCenter/PDscope_DataCenter/github_repo/nuc_DataCenters/src.py:419\u001b[0m, in \u001b[0;36mreactor_on_durations_weeks_approach\u001b[0;34m(delay_in_weeks, fuel_lifetime_weeks, refuel_period_weeks, levelization_period_weeks)\u001b[0m\n\u001b[1;32m    416\u001b[0m fuel_cycle_start_weeks_list \u001b[38;5;241m=\u001b[39m []\n\u001b[1;32m    417\u001b[0m fuel_cycle_end_weeks_list \u001b[38;5;241m=\u001b[39m []\n\u001b[0;32m--> 419\u001b[0m \u001b[38;5;28;01mwhile\u001b[39;00m \u001b[43m(\u001b[49m\u001b[43mfuel_cycle_start_weeks\u001b[49m\u001b[43m \u001b[49m\u001b[43m)\u001b[49m\u001b[43m \u001b[49m\u001b[38;5;241;43m<\u001b[39;49m\u001b[38;5;241;43m=\u001b[39;49m\u001b[43m \u001b[49m\u001b[43mlevelization_period_weeks\u001b[49m:\n\u001b[1;32m    421\u001b[0m     fuel_cycle_start_weeks \u001b[38;5;241m=\u001b[39m delay_in_weeks \u001b[38;5;241m+\u001b[39m cycle_num\u001b[38;5;241m*\u001b[39m(fuel_lifetime_weeks\u001b[38;5;241m+\u001b[39mrefuel_period_weeks) \u001b[38;5;241m+\u001b[39m\u001b[38;5;241m1\u001b[39m\n\u001b[1;32m    422\u001b[0m     fuel_cycle_end_weeks \u001b[38;5;241m=\u001b[39m fuel_cycle_start_weeks\u001b[38;5;241m+\u001b[39m fuel_lifetime_weeks \u001b[38;5;241m-\u001b[39m\u001b[38;5;241m1\u001b[39m\n",
      "\u001b[0;31mKeyboardInterrupt\u001b[0m: "
     ]
    }
   ],
   "source": [
    "\n",
    "\n",
    "# delete the output file is exists\n",
    "filename = \"LCOE_for_demand_reliability.csv\"\n",
    "try:\n",
    "    os.remove(filename)\n",
    "except OSError:\n",
    "    pass\n",
    "    \n",
    "power_list = [1000, 900 , 800, 700, 600, 500, 400, 300, 200, 100  ,50,  20, 5, 1]\n",
    "min_capacity_factor_criteria_list = ['Baseline' ,0.9, 0.95,  0.99, 0.99999, 1]\n",
    "interest_rate = 0.06\n",
    "levelization_period_0 = int(365 * 30/7)\n",
    "overall_capacity_factor_criteria = 0 # has no effect\n",
    "\n",
    "\n",
    "\n",
    "for tot_demand in [500 ,  1000, 3000, 6000] :\n",
    "    \n",
    "    demand_tot_lcoe_no_sell_list = []\n",
    "    demand_tot_lcoe_sell_list = []\n",
    "    \n",
    "    for min_capacity_factor_criteria in min_capacity_factor_criteria_list:\n",
    "        tot_lcoe_no_sell_list = []\n",
    "        tot_lcoe_with_sell_list = []\n",
    "\n",
    "        print(tot_demand, min_capacity_factor_criteria)\n",
    "        for reactor_power in power_list:\n",
    "\n",
    "            fuel_lifetime = operational_lifetime_estimate(reactor_power) \n",
    "            refueling_period =  refueling_period_estimate(reactor_power) \n",
    "            \n",
    "            if min_capacity_factor_criteria == \"Baseline\":\n",
    "               num_reactors_needed = int(np.ceil(num_reactors_needed_for_capacity_factor_weeks_apprioach(overall_capacity_factor_criteria,\\\n",
    "                            0, fuel_lifetime, refueling_period, reactor_power ,\\\n",
    "                                levelization_period_0, tot_demand))) \n",
    "            else:\n",
    "            \n",
    "                num_reactors_needed = int(np.ceil(num_reactors_needed_for_capacity_factor_weeks_apprioach(overall_capacity_factor_criteria,\\\n",
    "                            min_capacity_factor_criteria, fuel_lifetime, refueling_period, reactor_power ,\\\n",
    "                                levelization_period_0, tot_demand)))\n",
    "            \n",
    "            results = capacity_factor_weeks_approach(fuel_lifetime, refueling_period, num_reactors_needed, reactor_power, levelization_period_0, tot_demand)\n",
    "            Tot_MWh_generated_per_year_list = results[3]\n",
    "            MWh_generated_per_year_per_demand_list = results[4]\n",
    "            MWh_excess_per_year_list = results[5]\n",
    "           \n",
    "            # LCOE with and without selling electricity\n",
    "            lcoe_no_sell = level_cost_of_energy( interest_rate, reactor_power, num_reactors_needed, Tot_MWh_generated_per_year_list,MWh_generated_per_year_per_demand_list, MWh_excess_per_year_list, 0)\n",
    "            lcoe_with_sell = level_cost_of_energy( interest_rate, reactor_power, num_reactors_needed, Tot_MWh_generated_per_year_list,MWh_generated_per_year_per_demand_list, MWh_excess_per_year_list, elec_price_min)\n",
    "            tot_lcoe_no_sell_list.append(lcoe_no_sell)\n",
    "            tot_lcoe_with_sell_list.append(lcoe_with_sell )\n",
    "\n",
    "        demand_tot_lcoe_no_sell_list.append(tot_lcoe_no_sell_list)\n",
    "        demand_tot_lcoe_sell_list.append(tot_lcoe_with_sell_list)\n",
    "    \n",
    "    if tot_demand == 500: \n",
    "          demand_tot_lcoe_no_sell_list_500 = demand_tot_lcoe_no_sell_list \n",
    "          demand_tot_lcoe_sell_list_500 = demand_tot_lcoe_sell_list\n",
    "    elif tot_demand == 1000:  \n",
    "        demand_tot_lcoe_no_sell_list_1000 = demand_tot_lcoe_no_sell_list \n",
    "        demand_tot_lcoe_sell_list_1000 = demand_tot_lcoe_sell_list\n",
    "    elif tot_demand == 3000: \n",
    "        demand_tot_lcoe_no_sell_list_3000 = demand_tot_lcoe_no_sell_list\n",
    "        demand_tot_lcoe_sell_list_3000 = demand_tot_lcoe_sell_list   \n",
    "    elif tot_demand == 6000: \n",
    "        demand_tot_lcoe_no_sell_list_6000 = demand_tot_lcoe_no_sell_list \n",
    "        demand_tot_lcoe_sell_list_6000 = demand_tot_lcoe_sell_list               "
   ]
  },
  {
   "cell_type": "markdown",
   "metadata": {},
   "source": [
    "# Plot LCOE without grid export"
   ]
  },
  {
   "cell_type": "code",
   "execution_count": null,
   "metadata": {},
   "outputs": [],
   "source": [
    "tot_demand_list = [500,  1000, 3000, 6000]\n",
    "tot_lcoe_no_sell_lists = [demand_tot_lcoe_no_sell_list_500,  demand_tot_lcoe_no_sell_list_1000,\\\n",
    "    demand_tot_lcoe_no_sell_list_3000, demand_tot_lcoe_no_sell_list_6000]\n",
    "\n",
    "for i in range(len(tot_demand_list )):\n",
    "    fig = plt.figure(figsize=(8, 5))\n",
    "    plt.title( f\"Demand  = {tot_demand_list[i]} $MW_e$ \\n (Surplus energy is not sold to the Grid) \",  fontsize=16,  x=0.55, y=0.82, backgroundcolor='white') \n",
    "    lcoe_no_sell_list = tot_lcoe_no_sell_lists[i]\n",
    "    for k in range(len(min_capacity_factor_criteria_list)) :\n",
    "        lcoe_no_sell_k = lcoe_no_sell_list[k]\n",
    "        if min_capacity_factor_criteria_list[k] == \"Baseline\":\n",
    "            plt.plot(power_list ,lcoe_no_sell_k  , '-o' , markersize = 8,  alpha=0.6 ,label = \"Baseline\")\n",
    "        else: \n",
    "            plt.plot(power_list , lcoe_no_sell_k , '-o' , markersize = 8,  alpha=0.6 ,label = f\"Target Daily Agg. Capacity Factor = { min_capacity_factor_criteria_list[k]}\")\n",
    "           \n",
    "        plt.yscale('log')\n",
    "        plt.xscale('log')\n",
    "    if tot_demand_list[i] == 500:\n",
    "        plt.legend(bbox_to_anchor=(0.5, 1.5), loc='upper center', fontsize=17 , ncol=3)\n",
    "\n",
    "    plt.grid(which='major', color='grey', linewidth=0.8)\n",
    "    plt.grid(which='minor', color='grey', linestyle='dashed', linewidth=0.5)\n",
    "    plt.minorticks_on() \n",
    "     \n",
    "    plt.gca().yaxis.set_major_formatter(mpl.ticker.ScalarFormatter())\n",
    "    plt.gca().yaxis.set_minor_formatter(mpl.ticker.ScalarFormatter())\n",
    "    \n",
    "    plt.gca().xaxis.set_major_formatter(mpl.ticker.ScalarFormatter())\n",
    "    plt.gca().xaxis.set_minor_formatter(mpl.ticker.ScalarFormatter())\n",
    "    \n",
    "    # setting the ticks\n",
    "    ticks_min = 40 * np.floor(min(np.concatenate(lcoe_no_sell_list))/40)\n",
    "    ticks_max = 40 * np.ceil(max(np.concatenate(lcoe_no_sell_list))/40)\n",
    "    \n",
    "    ticks_list = np.linspace(ticks_min , ticks_max , 1 +  int((ticks_max - ticks_min)/40)  )    # plt.yticks( ticks_list)\n",
    "    plt.yticks( ticks_list)\n",
    "    plt.gca().yaxis.set_minor_formatter(mpl.ticker.NullFormatter())\n",
    "    plt.gca().xaxis.set_minor_formatter(mpl.ticker.NullFormatter())\n",
    "    \n",
    "       \n",
    "    plt.xlabel('Power ($MW_e$)', fontsize=18)\n",
    "    plt.ylabel('LCOE ($/MWh)', fontsize=18) \n",
    "    plt.xlim( 1, 1000)\n",
    "    plt.yticks(fontsize=17)\n",
    "    plt.xticks(fontsize=17) \n",
    "    plt.savefig(f'LCOE_{tot_demand}.png', bbox_inches='tight')\n",
    "    plt.show()"
   ]
  },
  {
   "cell_type": "markdown",
   "metadata": {},
   "source": [
    "Plot LCOE with grid export"
   ]
  },
  {
   "cell_type": "code",
   "execution_count": null,
   "metadata": {},
   "outputs": [],
   "source": [
    " \n",
    "tot_lcoe_sell_lists = [demand_tot_lcoe_sell_list_500,  demand_tot_lcoe_sell_list_1000,\\\n",
    "    demand_tot_lcoe_sell_list_3000, demand_tot_lcoe_sell_list_6000]\n",
    "\n",
    "for i in range(len(tot_demand_list )):\n",
    "    fig = plt.figure(figsize=(8, 5))\n",
    "    plt.title( f\"Demand  = {tot_demand_list[i]} $MW_e$ \\n (Surplus energy sold to the Grid) \",  fontsize=16,  x=0.55, y=0.82, backgroundcolor='white') \n",
    "    lcoe_sell_list = tot_lcoe_sell_lists[i]\n",
    "    for k in range(len(min_capacity_factor_criteria_list)) :\n",
    "        lcoe_sell_k = lcoe_sell_list[k]\n",
    "        if min_capacity_factor_criteria_list[k] == \"Baseline\":\n",
    "            plt.plot(power_list ,lcoe_sell_k  , '-o' , markersize = 8,  alpha=0.6 ,label = \"Baseline\")\n",
    "        else: \n",
    "            plt.plot(power_list , lcoe_sell_k , '-o' , markersize = 8,  alpha=0.6 ,label = f\"Target Daily Agg. Capacity Factor = { min_capacity_factor_criteria_list[k]}\")\n",
    "           \n",
    "        plt.yscale('log')\n",
    "        plt.xscale('log')\n",
    "    if tot_demand_list[i] == 500:\n",
    "        plt.legend(bbox_to_anchor=(0.5, 1.5), loc='upper center', fontsize=17 , ncol=3)\n",
    "\n",
    "    plt.grid(which='major', color='grey', linewidth=0.8)\n",
    "    plt.grid(which='minor', color='grey', linestyle='dashed', linewidth=0.5)\n",
    "    plt.minorticks_on() \n",
    "     \n",
    "    plt.gca().yaxis.set_major_formatter(mpl.ticker.ScalarFormatter())\n",
    "    plt.gca().yaxis.set_minor_formatter(mpl.ticker.ScalarFormatter())\n",
    "    \n",
    "    plt.gca().xaxis.set_major_formatter(mpl.ticker.ScalarFormatter())\n",
    "    plt.gca().xaxis.set_minor_formatter(mpl.ticker.ScalarFormatter())\n",
    "    \n",
    "    # setting the ticks\n",
    "    ticks_min = 40 * np.floor(min(np.concatenate(lcoe_no_sell_list))/40)\n",
    "    ticks_max = 40 * np.ceil(max(np.concatenate(lcoe_no_sell_list))/40)\n",
    "    \n",
    "    ticks_list = np.linspace(ticks_min , ticks_max , 1 +  int((ticks_max - ticks_min)/40)  )    # plt.yticks( ticks_list)\n",
    "    plt.yticks( ticks_list)\n",
    "    plt.gca().yaxis.set_minor_formatter(mpl.ticker.NullFormatter())\n",
    "    plt.gca().xaxis.set_minor_formatter(mpl.ticker.NullFormatter())\n",
    "    \n",
    "       \n",
    "    plt.xlabel('Power ($MW_e$)', fontsize=18)\n",
    "    plt.ylabel('LCOE ($/MWh)', fontsize=18) \n",
    "    plt.xlim( 1, 1000)\n",
    "    plt.yticks(fontsize=17)\n",
    "    plt.xticks(fontsize=17) \n",
    "    plt.savefig(f'LCOE_Selling{tot_demand}.png', bbox_inches='tight')\n",
    "    plt.show()\n"
   ]
  }
 ],
 "metadata": {
  "kernelspec": {
   "display_name": "Python 3",
   "language": "python",
   "name": "python3"
  },
  "language_info": {
   "codemirror_mode": {
    "name": "ipython",
    "version": 3
   },
   "file_extension": ".py",
   "mimetype": "text/x-python",
   "name": "python",
   "nbconvert_exporter": "python",
   "pygments_lexer": "ipython3",
   "version": "3.11.8"
  }
 },
 "nbformat": 4,
 "nbformat_minor": 4
}
