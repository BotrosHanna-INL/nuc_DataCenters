{
 "cells": [
  {
   "cell_type": "markdown",
   "metadata": {},
   "source": [
    "\n",
    "\n",
    "<center><table>\n",
    "<tr>\n",
    "\n",
    "<th> <img src= \"INL1.png\",align=\"middle\",style=\"width: 10000px;\"/> </th>\n",
    "</tr>\n",
    "<tr>\n",
    "<th> <img src=\"PennNucDataCenter.jpeg\"  ,align=\"middle\", style=\"width: 500px;\"/> </th>\n",
    "</tr>\n",
    "<center><table>"
   ]
  },
  {
   "cell_type": "markdown",
   "metadata": {},
   "source": [
    "# <center>Nuclear-Powered Data Centers Economic Optimization Strategy</center>"
   ]
  },
  {
   "cell_type": "markdown",
   "metadata": {},
   "source": [
    "#### Expected Outcome\n",
    "- A journal paper evaluating <u>the economic threshold points</u> identifying the conditions under which user requirements would be better suited by a large, small, or micro-reactor. The use case will be focused on data centers and will provide INL with the credential to stake a claim as a leader in nuclear for data center research.\n",
    "\n",
    "- With a framework on hand, the lab could then leverage its expertise to offer advisory support for the various data centers considering nuclear energy. Further, with interest growing in this area, it is possible that DOE-NE would sponsor research on coupling nuclear reactors with data centers. INL would be well positioned to lead such R&D activities.\n",
    "\n",
    "#### Activity\n",
    "- A framework is proposed to evaluate the **economic tradeoff** between large, small, and micro-reactors. \n",
    "- The intent is to map out ‘threshold values’ under a given set of requirements \n",
    "  - energy demand size\n",
    "  - reliability \n",
    "  \n",
    "- The framework would parametrize a set of important economic variables to quantifiably differentiate the different reactor classes. \n",
    "  - nuclear capacity\n",
    "  - diseconomies of scale, \n",
    "   - economies of mass production, \n",
    "   - speed of deployment, \n",
    "   - downtime intervals  \n",
    "\n"
   ]
  },
  {
   "cell_type": "markdown",
   "metadata": {},
   "source": [
    "### Required Imports"
   ]
  },
  {
   "cell_type": "code",
   "execution_count": 1,
   "metadata": {},
   "outputs": [
    {
     "name": "stderr",
     "output_type": "stream",
     "text": [
      "/tmp/ipykernel_1719013/959489453.py:2: DeprecationWarning: \n",
      "Pyarrow will become a required dependency of pandas in the next major release of pandas (pandas 3.0),\n",
      "(to allow more performant data types, such as the Arrow string type, and better interoperability with other libraries)\n",
      "but was not found to be installed on your system.\n",
      "If this would cause problems for you,\n",
      "please provide us feedback at https://github.com/pandas-dev/pandas/issues/54466\n",
      "        \n",
      "  import pandas as pd\n"
     ]
    }
   ],
   "source": [
    "import numpy as np\n",
    "import pandas as pd\n",
    "import matplotlib.pyplot as plt\n",
    "from scipy.optimize import curve_fit\n",
    "from src import *\n"
   ]
  },
  {
   "cell_type": "code",
   "execution_count": 54,
   "metadata": {},
   "outputs": [
    {
     "name": "stdout",
     "output_type": "stream",
     "text": [
      "500 MWe\n",
      "300 MWe\n",
      "100 MWe\n",
      "50 MWe\n",
      "20 MWe\n",
      "10 MWe\n",
      "5 MWe\n",
      "1 MWe\n"
     ]
    }
   ],
   "source": [
    "fig = plt.figure(figsize=(18, 6))\n",
    "\n",
    "\n",
    "# https://world-nuclear-news.org/Articles/AP1000-remains-attractive-option-for-US-market-say#:~:text=MIT%20estimates%20the%20overnight%20capital,series%2C%20based%20on%202018%20dollars.\n",
    "\n",
    "\n",
    "fuel_lifetime_0 = 2*12*30 # days\n",
    "refueling_period_0 = 30 # days\n",
    "levelization_period_0 = 30*365 # days\n",
    "demand_0 = 1500\n",
    "\n",
    "overall_capacity_factor_criteria = 0.9\n",
    "min_capacity_factor_criteria = 0.99\n",
    "\n",
    "# ref large reactor\n",
    "cost_large = 4300  # vogtle_should_be_cost $/kWe\n",
    "power_large = 1100 # Vogtle unit 3\n",
    "LR_Large = 0.061 # from PWR (76% cost ration for the 20th reactor)\n",
    "\n",
    "# small reactor\n",
    "\n",
    "lr_small_min = 0.05\n",
    "lr_small_max = 0.2\n",
    "lr_small_interval = 0.005\n",
    "\n",
    "num_LR_small = abs(int(np.ceil(1 + (lr_small_min - lr_small_max)/ lr_small_interval) ) ) #num of learning rate samples\n",
    "\n",
    "\n",
    "min_cost_small = cost_large \n",
    "max_cost_small = 10*cost_large \n",
    "cost_interval_small = 20 # 50 dollars\n",
    "num_cost_small = int(np.ceil(1 + abs(max_cost_small  - min_cost_small )/ cost_interval_small  ) )\n",
    "\n",
    "\n",
    "# #Step1 : calculate cost of the large ractor\n",
    "num_reactors_needed_large = num_reactors_needed_for_overall_capacity_factor(overall_capacity_factor_criteria, min_capacity_factor_criteria, fuel_lifetime_0, refueling_period_0, power_large, levelization_period_0, demand_0)\n",
    "final_cost_large = calculate_final_cost_due_to_learning_rate(cost_large , LR_Large, int(num_reactors_needed_large)  )\n",
    "\n",
    "final_cost_per_demand_large = final_cost_large * (num_reactors_needed_large*power_large/demand_0)\n",
    " \n",
    " \n",
    "# # Step2: calculate cost of small reactor that matches the large reactor\n",
    "for power_small in [500, 300, 100,50 ,20,10, 5, 1]:\n",
    "    \n",
    "    num_reactors_needed_small = num_reactors_needed_for_overall_capacity_factor(overall_capacity_factor_criteria, min_capacity_factor_criteria, fuel_lifetime_0, refueling_period_0, power_small, levelization_period_0, demand_0)\n",
    "\n",
    "    lr_small_save = []\n",
    "    tipping_cost_save = []\n",
    "\n",
    "    for lr_small in np.linspace(lr_small_min, lr_small_max , num_LR_small ): \n",
    "        print(power_small, \"MWe\", \"LR = \", lr_small)    \n",
    "        \n",
    "        for cost_small in np.linspace(max_cost_small, min_cost_small, num_cost_small):\n",
    "        \n",
    "            final_cost_small = calculate_final_cost_due_to_learning_rate(cost_small , lr_small, int(num_reactors_needed_small)  )\n",
    "            final_cost_per_demand_small = final_cost_small* (num_reactors_needed_small*power_small/demand_0)\n",
    "            if final_cost_per_demand_small  <=  final_cost_per_demand_large:\n",
    "                cost_tipping_point = final_cost_per_demand_small\n",
    "                tipping_cost_save.append(cost_small)\n",
    "                lr_small_save.append(lr_small)\n",
    "                break\n",
    "    plt.plot(lr_small_save, np.array(tipping_cost_save)/cost_large, '-o' , markersize = 10, label =f'Power = {power_small} MWe')\n",
    "    plt.legend(bbox_to_anchor=(1.05, 1.0), loc='upper left')\n",
    "    \n",
    "plt.grid(which='major', color='grey', linewidth=0.8)\n",
    "plt.grid(which='minor', color='grey', linestyle='dashed', linewidth=0.5)\n",
    "plt.minorticks_on()\n",
    "plt.yticks(fontsize=15)\n",
    "plt.xticks(fontsize=15)  \n",
    "\n",
    "plt.xlabel('Learning Rate',  fontsize=16 )\n",
    "plt.ylabel('Small Reactor to Large Reactor \\n FOAK Cost (USD/MWe) Ratio \\n',  fontsize=14)\n",
    "plt.xlim(0.04, 0.2)\n",
    "plt.gca().xaxis.set_major_locator(plt.MultipleLocator(0.02))\n",
    "\n",
    "plt.show()    "
   ]
  },
  {
   "cell_type": "code",
   "execution_count": 29,
   "metadata": {},
   "outputs": [
    {
     "data": {
      "text/plain": [
       "[0.05,\n",
       " 0.06153846153846154,\n",
       " 0.07307692307692308,\n",
       " 0.08461538461538462,\n",
       " 0.09615384615384617,\n",
       " 0.1076923076923077,\n",
       " 0.11923076923076925,\n",
       " 0.1307692307692308,\n",
       " 0.14230769230769233,\n",
       " 0.15384615384615385,\n",
       " 0.1653846153846154,\n",
       " 0.17692307692307696,\n",
       " 0.1884615384615385,\n",
       " 0.2]"
      ]
     },
     "execution_count": 29,
     "metadata": {},
     "output_type": "execute_result"
    }
   ],
   "source": [
    "lr_small_save"
   ]
  },
  {
   "cell_type": "markdown",
   "metadata": {},
   "source": [
    "## For a given learning rate how much FOAK penalty can you afford"
   ]
  }
 ],
 "metadata": {
  "kernelspec": {
   "display_name": "base",
   "language": "python",
   "name": "python3"
  },
  "language_info": {
   "codemirror_mode": {
    "name": "ipython",
    "version": 3
   },
   "file_extension": ".py",
   "mimetype": "text/x-python",
   "name": "python",
   "nbconvert_exporter": "python",
   "pygments_lexer": "ipython3",
   "version": "3.12.1"
  }
 },
 "nbformat": 4,
 "nbformat_minor": 2
}
